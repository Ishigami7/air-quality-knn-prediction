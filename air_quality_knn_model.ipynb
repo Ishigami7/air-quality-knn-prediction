{
 "cells": [
  {
   "cell_type": "markdown",
   "metadata": {},
   "source": [
    "# Model KNN untuk Prediksi Kualitas Udara\n",
    "\n",
    "## Deskripsi\n",
    "Model machine learning menggunakan K-Nearest Neighbors untuk memprediksi kualitas udara berdasarkan 6 parameter:\n",
    "- PM10, PM2.5, SO2, CO, O3, NO2\n",
    "\n",
    "## Target Klasifikasi\n",
    "- **Baik**: Kualitas udara sehat\n",
    "- **Sedang**: Kualitas udara dapat diterima  \n",
    "- **Buruk**: Kualitas udara tidak sehat"
   ]
  },
  {
   "cell_type": "code",
   "execution_count": null,
   "metadata": {},
   "outputs": [],
   "source": [
    "# Import semua library yang dibutuhkan\n",
    "import pandas as pd\n",
    "import numpy as np\n",
    "import matplotlib.pyplot as plt\n",
    "import seaborn as sns\n",
    "from sklearn.model_selection import train_test_split, cross_val_score, GridSearchCV\n",
    "from sklearn.neighbors import KNeighborsClassifier\n",
    "from sklearn.preprocessing import StandardScaler, LabelEncoder\n",
    "from sklearn.metrics import classification_report, confusion_matrix, accuracy_score\n",
    "import warnings\n",
    "warnings.filterwarnings('ignore')\n",
    "\n",
    "# Setting untuk visualisasi\n",
    "plt.style.use('seaborn-v0_8')\n",
    "sns.set_palette(\"husl\")\n",
    "plt.rcParams['figure.figsize'] = (10, 6)"
   ]
  },
  {
   "cell_type": "markdown",
   "metadata": {},
   "source": [
    "## 1. Load dan Explorasi Data"
   ]
  },
  {
   "cell_type": "code",
   "execution_count": null,
   "metadata": {},
   "outputs": [],
   "source": [
    "# Load dataset - ganti dengan path file Anda\n",
    "try:\n",
    "    # Jika menggunakan sample data yang disediakan\n",
    "    df = pd.read_csv('sample_air_quality_data.csv')\n",
    "    print(\"✅ Dataset berhasil dimuat!\")\n",
    "except FileNotFoundError:\n",
    "    print(\"❌ File dataset tidak ditemukan!\")\n",
    "    print(\"Pastikan file CSV ada di folder yang sama dengan notebook ini\")\n",
    "    print(\"Format yang diharapkan: PM10, PM2.5, SO2, CO, O3, NO2, Quality\")\n",
    "    \n",
    "# Tampilkan informasi dasar dataset\n",
    "print(f\"\\n📊 Shape dataset: {df.shape}\")\n",
    "print(f\"📋 Kolom: {list(df.columns)}\")\n",
    "print(\"\\n🔍 5 baris pertama:\")\n",
    "df.head()"
   ]
  },
  {
   "cell_type": "code",
   "execution_count": null,
   "metadata": {},
   "outputs": [],
   "source": [
    "# Cek informasi detail dataset\n",
    "print(\"📈 Info Dataset:\")\n",
    "df.info()\n",
    "\n",
    "print(\"\\n📊 Statistik Deskriptif:\")\n",
    "df.describe()"
   ]
  },
  {
   "cell_type": "code",
   "execution_count": null,
   "metadata": {},
   "outputs": [],
   "source": [
    "# Cek missing values\n",
    "print(\"🔍 Missing Values:\")\n",
    "missing_data = df.isnull().sum()\n",
    "if missing_data.sum() > 0:\n",
    "    print(missing_data[missing_data > 0])\n",
    "    print(f\"\\n⚠️  Total missing values: {missing_data.sum()}\")\n",
    "else:\n",
    "    print(\"✅ Tidak ada missing values!\")\n",
    "\n",
    "# Cek distribusi target variable\n",
    "print(\"\\n🎯 Distribusi Kualitas Udara:\")\n",
    "quality_counts = df['Quality'].value_counts()\n",
    "print(quality_counts)\n",
    "\n",
    "# Visualisasi distribusi target\n",
    "plt.figure(figsize=(8, 5))\n",
    "quality_counts.plot(kind='bar', color=['green', 'orange', 'red'])\n",
    "plt.title('Distribusi Kualitas Udara')\n",
    "plt.xlabel('Kategori Kualitas')\n",
    "plt.ylabel('Jumlah Data')\n",
    "plt.xticks(rotation=0)\n",
    "plt.tight_layout()\n",
    "plt.show()"
   ]
  },
  {
   "cell_type": "markdown",
   "metadata": {},
   "source": [
    "## 2. Data Preprocessing"
   ]
  },
  {
   "cell_type": "code",
   "execution_count": null,
   "metadata": {},
   "outputs": [],
   "source": [
    "# Membuat copy dataset untuk preprocessing\n",
    "df_processed = df.copy()\n",
    "\n",
    "# Handle missing values jika ada\n",
    "if df_processed.isnull().sum().sum() > 0:\n",
    "    print(\"🔧 Menangani missing values...\")\n",
    "    # Fill dengan median untuk data numerik\n",
    "    numeric_columns = ['PM10', 'PM2.5', 'SO2', 'CO', 'O3', 'NO2']\n",
    "    for col in numeric_columns:\n",
    "        if df_processed[col].isnull().sum() > 0:\n",
    "            median_val = df_processed[col].median()\n",
    "            df_processed[col].fillna(median_val, inplace=True)\n",
    "            print(f\"   - {col}: filled dengan median = {median_val:.2f}\")\n",
    "\n",
    "# Validasi format kolom target\n",
    "expected_categories = ['Baik', 'Sedang', 'Buruk']\n",
    "unique_categories = df_processed['Quality'].unique()\n",
    "\n",
    "print(f\"\\n🏷️  Kategori yang ditemukan: {list(unique_categories)}\")\n",
    "\n",
    "# Standardisasi nama kategori jika perlu\n",
    "category_mapping = {\n",
    "    'good': 'Baik', 'Good': 'Baik', 'GOOD': 'Baik',\n",
    "    'moderate': 'Sedang', 'Moderate': 'Sedang', 'MODERATE': 'Sedang',\n",
    "    'bad': 'Buruk', 'Bad': 'Buruk', 'BAD': 'Buruk',\n",
    "    'poor': 'Buruk', 'Poor': 'Buruk', 'POOR': 'Buruk'\n",
    "}\n",
    "\n",
    "if not all(cat in expected_categories for cat in unique_categories):\n",
    "    print(\"🔄 Melakukan standardisasi kategori...\")\n",
    "    df_processed['Quality'] = df_processed['Quality'].replace(category_mapping)\n",
    "    print(f\"   Kategori setelah standardisasi: {list(df_processed['Quality'].unique())}\")\n",
    "\n",
    "print(\"\\n✅ Preprocessing selesai!\")"
   ]
  },
  {
   "cell_type": "markdown",
   "metadata": {},
   "source": [
    "## 3. Eksplorasi Data Visual"
   ]
  },
  {
   "cell_type": "code",
   "execution_count": null,
   "metadata": {},
   "outputs": [],
   "source": [
    "# Correlation heatmap\n",
    "numeric_features = ['PM10', 'PM2.5', 'SO2', 'CO', 'O3', 'NO2']\n",
    "correlation_matrix = df_processed[numeric_features].corr()\n",
    "\n",
    "plt.figure(figsize=(10, 8))\n",
    "sns.heatmap(correlation_matrix, annot=True, cmap='coolwarm', center=0, \n",
    "            square=True, fmt='.2f')\n",
    "plt.title('Korelasi Antar Parameter Kualitas Udara')\n",
    "plt.tight_layout()\n",
    "plt.show()"
   ]
  },
  {
   "cell_type": "code",
   "execution_count": null,
   "metadata": {},
   "outputs": [],
   "source": [
    "# Box plots untuk setiap parameter berdasarkan kualitas\n",
    "fig, axes = plt.subplots(2, 3, figsize=(15, 10))\n",
    "axes = axes.ravel()\n",
    "\n",
    "for i, feature in enumerate(numeric_features):\n",
    "    sns.boxplot(data=df_processed, x='Quality', y=feature, ax=axes[i])\n",
    "    axes[i].set_title(f'Distribusi {feature} per Kualitas Udara')\n",
    "    axes[i].tick_params(axis='x', rotation=45)\n",
    "\n",
    "plt.tight_layout()\n",
    "plt.show()"
   ]
  },
  {
   "cell_type": "markdown",
   "metadata": {},
   "source": [
    "## 4. Persiapan Data untuk Model"
   ]
  },
  {
   "cell_type": "code",
   "execution_count": null,
   "metadata": {},
   "outputs": [],
   "source": [
    "# Pisahkan features dan target\n",
    "X = df_processed[numeric_features]\n",
    "y = df_processed['Quality']\n",
    "\n",
    "print(f\"📐 Shape features (X): {X.shape}\")\n",
    "print(f\"🎯 Shape target (y): {y.shape}\")\n",
    "\n",
    "# Encode target variable menjadi numerik\n",
    "label_encoder = LabelEncoder()\n",
    "y_encoded = label_encoder.fit_transform(y)\n",
    "\n",
    "# Simpan mapping untuk interpretasi hasil\n",
    "label_mapping = dict(zip(label_encoder.classes_, label_encoder.transform(label_encoder.classes_)))\n",
    "print(f\"\\n🏷️  Label mapping: {label_mapping}\")\n",
    "\n",
    "# Split data training dan testing\n",
    "X_train, X_test, y_train, y_test = train_test_split(\n",
    "    X, y_encoded, test_size=0.2, random_state=42, stratify=y_encoded\n",
    ")\n",
    "\n",
    "print(f\"\\n📊 Data Training: {X_train.shape[0]} samples\")\n",
    "print(f\"📊 Data Testing: {X_test.shape[0]} samples\")"
   ]
  },
  {
   "cell_type": "code",
   "execution_count": null,
   "metadata": {},
   "outputs": [],
   "source": [
    "# Feature Scaling - PENTING untuk KNN!\n",
    "scaler = StandardScaler()\n",
    "X_train_scaled = scaler.fit_transform(X_train)\n",
    "X_test_scaled = scaler.transform(X_test)\n",
    "\n",
    "print(\"⚖️  Feature scaling selesai!\")\n",
    "print(f\"   - Mean sebelum scaling: {X_train.mean().round(2).to_dict()}\")\n",
    "print(f\"   - Mean setelah scaling: {X_train_scaled.mean(axis=0).round(2)}\")\n",
    "print(f\"   - Std setelah scaling: {X_train_scaled.std(axis=0).round(2)}\")"
   ]
  },
  {
   "cell_type": "markdown",
   "metadata": {},
   "source": [
    "## 5. Training Model KNN"
   ]
  },
  {
   "cell_type": "code",
   "execution_count": null,
   "metadata": {},
   "outputs": [],
   "source": [
    "# Mencari nilai K terbaik dengan cross-validation\n",
    "k_range = range(1, 21)\n",
    "cv_scores = []\n",
    "\n",
    "print(\"🔍 Mencari nilai K optimal...\")\n",
    "for k in k_range:\n",
    "    knn = KNeighborsClassifier(n_neighbors=k)\n",
    "    scores = cross_val_score(knn, X_train_scaled, y_train, cv=5, scoring='accuracy')\n",
    "    cv_scores.append(scores.mean())\n",
    "    if k % 5 == 0:\n",
    "        print(f\"   K={k}: CV Score = {scores.mean():.4f} (+/- {scores.std() * 2:.4f})\")\n",
    "\n",
    "# Plot hasil cross-validation\n",
    "plt.figure(figsize=(10, 6))\n",
    "plt.plot(k_range, cv_scores, marker='o')\n",
    "plt.xlabel('Nilai K')\n",
    "plt.ylabel('Cross-Validation Accuracy')\n",
    "plt.title('KNN: Pencarian Nilai K Optimal')\n",
    "plt.grid(True, alpha=0.3)\n",
    "optimal_k = k_range[np.argmax(cv_scores)]\n",
    "plt.axvline(x=optimal_k, color='red', linestyle='--', label=f'Optimal K = {optimal_k}')\n",
    "plt.legend()\n",
    "plt.show()\n",
    "\n",
    "print(f\"\\n🎯 Nilai K optimal: {optimal_k}\")\n",
    "print(f\"📈 CV Score terbaik: {max(cv_scores):.4f}\")"
   ]
  },
  {
   "cell_type": "code",
   "execution_count": null,
   "metadata": {},
   "outputs": [],
   "source": [
    "# Training model dengan K optimal\n",
    "best_knn = KNeighborsClassifier(n_neighbors=optimal_k)\n",
    "best_knn.fit(X_train_scaled, y_train)\n",
    "\n",
    "print(f\"✅ Model KNN berhasil dilatih dengan K = {optimal_k}\")"
   ]
  },
  {
   "cell_type": "markdown",
   "metadata": {},
   "source": [
    "## 6. Evaluasi Model"
   ]
  },
  {
   "cell_type": "code",
   "execution_count": null,
   "metadata": {},
   "outputs": [],
   "source": [
    "# Prediksi pada data testing\n",
    "y_pred = best_knn.predict(X_test_scaled)\n",
    "\n",
    "# Hitung akurasi\n",
    "accuracy = accuracy_score(y_test, y_pred)\n",
    "print(f\"🎯 Akurasi Model: {accuracy:.4f} ({accuracy*100:.2f}%)\")\n",
    "\n",
    "# Classification report\n",
    "target_names = label_encoder.classes_\n",
    "print(\"\\n📊 Classification Report:\")\n",
    "print(classification_report(y_test, y_pred, target_names=target_names))"
   ]
  },
  {
   "cell_type": "code",
   "execution_count": null,
   "metadata": {},
   "outputs": [],
   "source": [
    "# Confusion Matrix\n",
    "cm = confusion_matrix(y_test, y_pred)\n",
    "\n",
    "plt.figure(figsize=(8, 6))\n",
    "sns.heatmap(cm, annot=True, fmt='d', cmap='Blues', \n",
    "            xticklabels=target_names, yticklabels=target_names)\n",
    "plt.title('Confusion Matrix')\n",
    "plt.xlabel('Prediksi')\n",
    "plt.ylabel('Aktual')\n",
    "plt.tight_layout()\n",
    "plt.show()\n",
    "\n",
    "# Interpretasi confusion matrix\n",
    "print(\"\\n🔍 Interpretasi Confusion Matrix:\")\n",
    "for i, actual_class in enumerate(target_names):\n",
    "    for j, pred_class in enumerate(target_names):\n",
    "        if cm[i][j] > 0:\n",
    "            if i == j:\n",
    "                print(f\"   ✅ {cm[i][j]} sampel '{actual_class}' diprediksi benar\")\n",
    "            else:\n",
    "                print(f\"   ❌ {cm[i][j]} sampel '{actual_class}' salah diprediksi sebagai '{pred_class}'\")"
   ]
  },
  {
   "cell_type": "markdown",
   "metadata": {},
   "source": [
    "## 7. Fungsi Prediksi untuk Data Baru"
   ]
  },
  {
   "cell_type": "code",
   "execution_count": null,
   "metadata": {},
   "outputs": [],
   "source": [
    "def predict_air_quality(pm10, pm25, so2, co, o3, no2):\n",
    "    \"\"\"\n",
    "    Fungsi untuk memprediksi kualitas udara berdasarkan parameter input\n",
    "    \n",
    "    Parameters:\n",
    "    pm10, pm25, so2, co, o3, no2: nilai parameter kualitas udara\n",
    "    \n",
    "    Returns:\n",
    "    str: prediksi kualitas udara ('Baik', 'Sedang', 'Buruk')\n",
    "    \"\"\"\n",
    "    # Buat array input\n",
    "    input_data = np.array([[pm10, pm25, so2, co, o3, no2]])\n",
    "    \n",
    "    # Scale input menggunakan scaler yang sudah di-fit\n",
    "    input_scaled = scaler.transform(input_data)\n",
    "    \n",
    "    # Prediksi\n",
    "    prediction = best_knn.predict(input_scaled)\n",
    "    prediction_proba = best_knn.predict_proba(input_scaled)\n",
    "    \n",
    "    # Convert ke label string\n",
    "    predicted_class = label_encoder.inverse_transform(prediction)[0]\n",
    "    \n",
    "    # Tampilkan hasil\n",
    "    print(f\"\\n🔬 Input Parameter:\")\n",
    "    print(f\"   PM10: {pm10}, PM2.5: {pm25}, SO2: {so2}\")\n",
    "    print(f\"   CO: {co}, O3: {o3}, NO2: {no2}\")\n",
    "    print(f\"\\n🎯 Prediksi: {predicted_class}\")\n",
    "    print(f\"📊 Confidence:\")\n",
    "    for i, class_name in enumerate(target_names):\n",
    "        confidence = prediction_proba[0][i] * 100\n",
    "        print(f\"   {class_name}: {confidence:.1f}%\")\n",
    "    \n",
    "    return predicted_class\n",
    "\n",
    "# Test fungsi dengan data contoh\n",
    "print(\"🧪 Test Prediksi dengan Data Contoh:\")\n",
    "print(\"=\"*50)\n",
    "\n",
    "# Contoh data dengan kualitas baik (nilai rendah)\n",
    "print(\"📋 Contoh 1 - Data dengan polusi rendah:\")\n",
    "result1 = predict_air_quality(pm10=30, pm25=15, so2=10, co=5, o3=50, no2=20)\n",
    "\n",
    "print(\"\\n\" + \"=\"*50)\n",
    "\n",
    "# Contoh data dengan kualitas buruk (nilai tinggi)\n",
    "print(\"📋 Contoh 2 - Data dengan polusi tinggi:\")\n",
    "result2 = predict_air_quality(pm10=150, pm25=80, so2=100, co=50, o3=200, no2=100)"
   ]
  },
  {
   "cell_type": "markdown",
   "metadata": {},
   "source": [
    "## 8. Menyimpan Model"
   ]
  },
  {
   "cell_type": "code",
   "execution_count": null,
   "metadata": {},
   "outputs": [],
   "source": [
    "import joblib\n",
    "\n",
    "# Simpan model dan scaler\n",
    "joblib.dump(best_knn, 'knn_air_quality_model.pkl')\n",
    "joblib.dump(scaler, 'feature_scaler.pkl')\n",
    "joblib.dump(label_encoder, 'label_encoder.pkl')\n",
    "\n",
    "print(\"💾 Model berhasil disimpan!\")\n",
    "print(\"   - knn_air_quality_model.pkl\")\n",
    "print(\"   - feature_scaler.pkl\")\n",
    "print(\"   - label_encoder.pkl\")\n",
    "\n",
    "# Test load ulang model\n",
    "print(\"\\n🔄 Test load model:\")\n",
    "loaded_model = joblib.load('knn_air_quality_model.pkl')\n",
    "loaded_scaler = joblib.load('feature_scaler.pkl')\n",
    "loaded_encoder = joblib.load('label_encoder.pkl')\n",
    "print(\"✅ Model berhasil di-load ulang!\")"
   ]
  },
  {
   "cell_type": "markdown",
   "metadata": {},
   "source": [
    "## 9. Ringkasan Hasil"
   ]
  },
  {
   "cell_type": "code",
   "execution_count": null,
   "metadata": {},
   "outputs": [],
   "source": [
    "print(\"\\n\" + \"=\"*60)\n",
    "print(\"📈 RINGKASAN HASIL MODEL KNN PREDIKSI KUALITAS UDARA\")\n",
    "print(\"=\"*60)\n",
    "\n",
    "print(f\"📊 Dataset: {df.shape[0]} sampel, {df.shape[1]} fitur\")\n",
    "print(f\"🎯 Target: 3 kategori (Baik, Sedang, Buruk)\")\n",
    "print(f\"⚙️  Parameter: PM10, PM2.5, SO2, CO, O3, NO2\")\n",
    "print(f\"🔧 Algoritma: K-Nearest Neighbors\")\n",
    "print(f\"📐 K Optimal: {optimal_k}\")\n",
    "print(f\"🎯 Akurasi: {accuracy:.4f} ({accuracy*100:.2f}%)\")\n",
    "print(f\"📋 CV Score: {max(cv_scores):.4f}\")\n",
    "\n",
    "print(\"\\n📝 Cara Menggunakan Model:\")\n",
    "print(\"1. Load model: joblib.load('knn_air_quality_model.pkl')\")\n",
    "print(\"2. Load scaler: joblib.load('feature_scaler.pkl')\")\n",
    "print(\"3. Load encoder: joblib.load('label_encoder.pkl')\")\n",
    "print(\"4. Scale input data dengan scaler\")\n",
    "print(\"5. Prediksi dengan model\")\n",
    "print(\"6. Convert hasil dengan encoder\")\n",
    "\n",
    "print(\"\\n✅ Model siap digunakan untuk prediksi kualitas udara!\")\n",
    "print(\"=\"*60)"
   ]
  }
 ],
 "metadata": {
  "kernelspec": {
   "display_name": "Python 3",
   "language": "python",
   "name": "python3"
  },
  "language_info": {
   "codemirror_mode": {
    "name": "ipython",
    "version": 3
   },
   "file_extension": ".py",
   "mimetype": "text/x-python",
   "name": "python",
   "nbconvert_exporter": "python",
   "pygments_lexer": "ipython3",
   "version": "3.8.0"
  }
 },
 "nbformat": 4,
 "nbformat_minor": 4
}